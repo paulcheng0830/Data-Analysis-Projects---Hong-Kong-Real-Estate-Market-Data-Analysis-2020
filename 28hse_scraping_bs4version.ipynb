{
 "cells": [
  {
   "cell_type": "code",
   "execution_count": 2,
   "metadata": {},
   "outputs": [
    {
     "name": "stdout",
     "output_type": "stream",
     "text": [
      "Requirement already satisfied: requests in /home/nbuser/anaconda3_420/lib/python3.5/site-packages (2.14.2)\n",
      "\u001b[33mWARNING: You are using pip version 19.3.1; however, version 20.2.3 is available.\n",
      "You should consider upgrading via the 'pip install --upgrade pip' command.\u001b[0m\n"
     ]
    }
   ],
   "source": [
    "! pip install requests "
   ]
  },
  {
   "cell_type": "code",
   "execution_count": 3,
   "metadata": {},
   "outputs": [
    {
     "name": "stdout",
     "output_type": "stream",
     "text": [
      "Requirement already satisfied: BeautifulSoup4 in /home/nbuser/anaconda3_420/lib/python3.5/site-packages (4.5.1)\n",
      "\u001b[33mWARNING: You are using pip version 19.3.1; however, version 20.2.3 is available.\n",
      "You should consider upgrading via the 'pip install --upgrade pip' command.\u001b[0m\n"
     ]
    }
   ],
   "source": [
    "! pip install BeautifulSoup4"
   ]
  },
  {
   "cell_type": "code",
   "execution_count": 26,
   "metadata": {},
   "outputs": [
    {
     "name": "stdout",
     "output_type": "stream",
     "text": [
      "Requirement already satisfied: pandas in /home/nbuser/anaconda3_420/lib/python3.5/site-packages (0.19.2)\n",
      "Requirement already satisfied: python-dateutil>=2 in /home/nbuser/anaconda3_420/lib/python3.5/site-packages (from pandas) (2.8.1)\n",
      "Requirement already satisfied: pytz>=2011k in /home/nbuser/anaconda3_420/lib/python3.5/site-packages (from pandas) (2016.6.1)\n",
      "Requirement already satisfied: numpy>=1.7.0 in /home/nbuser/anaconda3_420/lib/python3.5/site-packages (from pandas) (1.17.3)\n",
      "Requirement already satisfied: six>=1.5 in /home/nbuser/anaconda3_420/lib/python3.5/site-packages (from python-dateutil>=2->pandas) (1.11.0)\n",
      "\u001b[33mWARNING: You are using pip version 19.3.1; however, version 20.2.3 is available.\n",
      "You should consider upgrading via the 'pip install --upgrade pip' command.\u001b[0m\n"
     ]
    }
   ],
   "source": [
    "! pip install pandas"
   ]
  },
  {
   "cell_type": "code",
   "execution_count": 2,
   "metadata": {},
   "outputs": [
    {
     "name": "stdout",
     "output_type": "stream",
     "text": [
      "Collecting fake-useragent\n",
      "  Using cached fake-useragent-0.1.11.tar.gz (13 kB)\n",
      "Building wheels for collected packages: fake-useragent\n",
      "  Building wheel for fake-useragent (setup.py) ... \u001b[?25ldone\n",
      "\u001b[?25h  Created wheel for fake-useragent: filename=fake_useragent-0.1.11-py3-none-any.whl size=13487 sha256=a71b003167bc22a53c32aab88499448866944ce4554c4ef6c6e40fe7fefdc2fc\n",
      "  Stored in directory: /Users/paulcheng/Library/Caches/pip/wheels/ed/f7/62/50ab6c9a0b5567267ab76a9daa9d06315704209b2c5d032031\n",
      "Successfully built fake-useragent\n",
      "Installing collected packages: fake-useragent\n",
      "Successfully installed fake-useragent-0.1.11\n"
     ]
    }
   ],
   "source": [
    "! pip install fake-useragent"
   ]
  },
  {
   "cell_type": "code",
   "execution_count": 1,
   "metadata": {},
   "outputs": [],
   "source": [
    "import requests\n",
    "from bs4 import BeautifulSoup\n",
    "import time\n",
    "import random\n",
    "import pandas as pd\n",
    "from fake_useragent import UserAgent"
   ]
  },
  {
   "cell_type": "code",
   "execution_count": 2,
   "metadata": {
    "scrolled": true
   },
   "outputs": [
    {
     "name": "stdout",
     "output_type": "stream",
     "text": [
      "--- 8.41104507446289 seconds ---\n"
     ]
    }
   ],
   "source": [
    "start_time = time.time()\n",
    "\n",
    "user_agent = UserAgent()\n",
    "url = 'https://www.28hse.com/buy/list-'\n",
    "\n",
    "\n",
    "all_table = []\n",
    "for page in range(1, 800): #range of scraping pages\n",
    "    req = requests.get(url + str(page))\n",
    "    soup = BeautifulSoup(req.text,'html.parser')\n",
    "    house_containers = soup.find_all(\"ul\", \"agentad_ul\")\n",
    "    detail_list = []\n",
    "    for house_container in house_containers:\n",
    "        region_property = house_container.find(\"div\", \"catname\").find_all(\"a\")\n",
    "        region = region_property[0].text\n",
    "        price = house_container.find(\"div\", \"price_class\").text\n",
    "        construction_area = house_container.find(\"p\", {\"class\": \"\"}).text\n",
    "        saleable_area = house_container.find(text=re.compile(\"^實用面積\"))\n",
    "        data_dict = {\n",
    "            'region': region,\n",
    "            'price': price,\n",
    "            'construction_area': construction_area,\n",
    "            'saleable_area': saleable_area,\n",
    "        }\n",
    "        all_table.append(data_dict)\n",
    "        delay_choices = [0.4, 0.5, 0.3, 0.2]  #random choosing delayed second\n",
    "        delay = random.choice(delay_choices)\n",
    "        time.sleep(delay)\n",
    "        print(data_dict)\n",
    "\n",
    "print(\"--- %s seconds ---\" % (time.time() - start_time)) #show the running time"
   ]
  },
  {
   "cell_type": "code",
   "execution_count": 3,
   "metadata": {},
   "outputs": [],
   "source": [
    "hse28_df = pd.DataFrame(all_table)"
   ]
  },
  {
   "cell_type": "code",
   "execution_count": 11,
   "metadata": {
    "scrolled": true
   },
   "outputs": [
    {
     "data": {
      "text/html": [
       "<div>\n",
       "<style scoped>\n",
       "    .dataframe tbody tr th:only-of-type {\n",
       "        vertical-align: middle;\n",
       "    }\n",
       "\n",
       "    .dataframe tbody tr th {\n",
       "        vertical-align: top;\n",
       "    }\n",
       "\n",
       "    .dataframe thead th {\n",
       "        text-align: right;\n",
       "    }\n",
       "</style>\n",
       "<table border=\"1\" class=\"dataframe\">\n",
       "  <thead>\n",
       "    <tr style=\"text-align: right;\">\n",
       "      <th></th>\n",
       "      <th>region</th>\n",
       "      <th>price</th>\n",
       "      <th>construction_area</th>\n",
       "      <th>saleable_area</th>\n",
       "    </tr>\n",
       "  </thead>\n",
       "  <tbody>\n",
       "    <tr>\n",
       "      <th>0</th>\n",
       "      <td>東涌</td>\n",
       "      <td>售 775 萬</td>\n",
       "      <td>984</td>\n",
       "      <td>734呎@10559</td>\n",
       "    </tr>\n",
       "    <tr>\n",
       "      <th>1</th>\n",
       "      <td>鑽石山</td>\n",
       "      <td>售 598 萬</td>\n",
       "      <td>0</td>\n",
       "      <td>383呎@15614</td>\n",
       "    </tr>\n",
       "    <tr>\n",
       "      <th>2</th>\n",
       "      <td>屯門</td>\n",
       "      <td>售 628 萬</td>\n",
       "      <td>0</td>\n",
       "      <td>488呎@12869</td>\n",
       "    </tr>\n",
       "    <tr>\n",
       "      <th>3</th>\n",
       "      <td>將軍澳</td>\n",
       "      <td>售 1,080 萬</td>\n",
       "      <td>0</td>\n",
       "      <td>625呎@17280</td>\n",
       "    </tr>\n",
       "    <tr>\n",
       "      <th>4</th>\n",
       "      <td>太古城</td>\n",
       "      <td>售 900 萬</td>\n",
       "      <td>591</td>\n",
       "      <td>504呎@17857</td>\n",
       "    </tr>\n",
       "    <tr>\n",
       "      <th>5</th>\n",
       "      <td>奧運</td>\n",
       "      <td>售 5,200 萬</td>\n",
       "      <td>1971</td>\n",
       "      <td>1523呎@34143</td>\n",
       "    </tr>\n",
       "    <tr>\n",
       "      <th>6</th>\n",
       "      <td>大圍</td>\n",
       "      <td>售 1,150 萬</td>\n",
       "      <td>980</td>\n",
       "      <td>739呎@15562</td>\n",
       "    </tr>\n",
       "    <tr>\n",
       "      <th>7</th>\n",
       "      <td>藍田</td>\n",
       "      <td>售 855 萬</td>\n",
       "      <td>680</td>\n",
       "      <td>537呎@15922</td>\n",
       "    </tr>\n",
       "    <tr>\n",
       "      <th>8</th>\n",
       "      <td>將軍澳</td>\n",
       "      <td>售 908 萬</td>\n",
       "      <td>0</td>\n",
       "      <td>708呎@12825</td>\n",
       "    </tr>\n",
       "    <tr>\n",
       "      <th>9</th>\n",
       "      <td>九龍灣</td>\n",
       "      <td>售 570 萬</td>\n",
       "      <td>443</td>\n",
       "      <td>322呎@17702</td>\n",
       "    </tr>\n",
       "    <tr>\n",
       "      <th>10</th>\n",
       "      <td>天水圍</td>\n",
       "      <td>售 458 萬</td>\n",
       "      <td>0</td>\n",
       "      <td>446呎@10269</td>\n",
       "    </tr>\n",
       "    <tr>\n",
       "      <th>11</th>\n",
       "      <td>天水圍</td>\n",
       "      <td>售 538 萬</td>\n",
       "      <td>0</td>\n",
       "      <td>550呎@9782</td>\n",
       "    </tr>\n",
       "    <tr>\n",
       "      <th>12</th>\n",
       "      <td>天水圍</td>\n",
       "      <td>售 600 萬</td>\n",
       "      <td>0</td>\n",
       "      <td>629呎@9539</td>\n",
       "    </tr>\n",
       "    <tr>\n",
       "      <th>13</th>\n",
       "      <td>元朗</td>\n",
       "      <td>售 490 萬</td>\n",
       "      <td>700</td>\n",
       "      <td>--</td>\n",
       "    </tr>\n",
       "    <tr>\n",
       "      <th>14</th>\n",
       "      <td>天水圍</td>\n",
       "      <td>售 580 萬</td>\n",
       "      <td>653</td>\n",
       "      <td>489呎@11861</td>\n",
       "    </tr>\n",
       "    <tr>\n",
       "      <th>15</th>\n",
       "      <td>屯門</td>\n",
       "      <td>售 410 萬</td>\n",
       "      <td>700</td>\n",
       "      <td>650呎@6308</td>\n",
       "    </tr>\n",
       "    <tr>\n",
       "      <th>16</th>\n",
       "      <td>將軍澳</td>\n",
       "      <td>售 748 萬</td>\n",
       "      <td>695</td>\n",
       "      <td>525呎@14248</td>\n",
       "    </tr>\n",
       "    <tr>\n",
       "      <th>17</th>\n",
       "      <td>北角</td>\n",
       "      <td>售 610 萬</td>\n",
       "      <td>0</td>\n",
       "      <td>612呎@9967</td>\n",
       "    </tr>\n",
       "    <tr>\n",
       "      <th>18</th>\n",
       "      <td>火炭</td>\n",
       "      <td>售 915 萬</td>\n",
       "      <td>717</td>\n",
       "      <td>555呎@16486</td>\n",
       "    </tr>\n",
       "    <tr>\n",
       "      <th>19</th>\n",
       "      <td>屯門</td>\n",
       "      <td>售 348 萬</td>\n",
       "      <td>467</td>\n",
       "      <td>325呎@10708</td>\n",
       "    </tr>\n",
       "  </tbody>\n",
       "</table>\n",
       "</div>"
      ],
      "text/plain": [
       "   region      price construction_area saleable_area\n",
       "0      東涌    售 775 萬               984    734呎@10559\n",
       "1     鑽石山    售 598 萬                 0    383呎@15614\n",
       "2      屯門    售 628 萬                 0    488呎@12869\n",
       "3     將軍澳  售 1,080 萬                 0    625呎@17280\n",
       "4     太古城    售 900 萬               591    504呎@17857\n",
       "5      奧運  售 5,200 萬              1971   1523呎@34143\n",
       "6      大圍  售 1,150 萬               980    739呎@15562\n",
       "7      藍田    售 855 萬               680    537呎@15922\n",
       "8     將軍澳    售 908 萬                 0    708呎@12825\n",
       "9     九龍灣    售 570 萬               443    322呎@17702\n",
       "10    天水圍    售 458 萬                 0    446呎@10269\n",
       "11    天水圍    售 538 萬                 0     550呎@9782\n",
       "12    天水圍    售 600 萬                 0     629呎@9539\n",
       "13     元朗    售 490 萬               700            --\n",
       "14    天水圍    售 580 萬               653    489呎@11861\n",
       "15     屯門    售 410 萬               700     650呎@6308\n",
       "16    將軍澳    售 748 萬               695    525呎@14248\n",
       "17     北角    售 610 萬                 0     612呎@9967\n",
       "18     火炭    售 915 萬               717    555呎@16486\n",
       "19     屯門    售 348 萬               467    325呎@10708"
      ]
     },
     "execution_count": 11,
     "metadata": {},
     "output_type": "execute_result"
    }
   ],
   "source": [
    "hse28_df.head(20)"
   ]
  },
  {
   "cell_type": "code",
   "execution_count": 5,
   "metadata": {},
   "outputs": [],
   "source": [
    "hse28_df.to_csv('hse28_df_v1.csv', index=False, header=True)"
   ]
  },
  {
   "cell_type": "code",
   "execution_count": null,
   "metadata": {},
   "outputs": [],
   "source": []
  }
 ],
 "metadata": {
  "kernelspec": {
   "display_name": "Python 3",
   "language": "python",
   "name": "python3"
  },
  "language_info": {
   "codemirror_mode": {
    "name": "ipython",
    "version": 3
   },
   "file_extension": ".py",
   "mimetype": "text/x-python",
   "name": "python",
   "nbconvert_exporter": "python",
   "pygments_lexer": "ipython3",
   "version": "3.7.10"
  }
 },
 "nbformat": 4,
 "nbformat_minor": 1
}
