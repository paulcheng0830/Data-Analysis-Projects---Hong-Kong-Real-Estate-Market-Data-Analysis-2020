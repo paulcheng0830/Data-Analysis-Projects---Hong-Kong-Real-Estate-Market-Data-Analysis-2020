{
 "cells": [
  {
   "cell_type": "code",
   "execution_count": 1,
   "id": "auburn-marathon",
   "metadata": {},
   "outputs": [],
   "source": [
    "import pandas as pd\n",
    "hse28 = pd.read_csv('hse28_df_v1.csv')\n"
   ]
  },
  {
   "cell_type": "code",
   "execution_count": 2,
   "id": "missing-chamber",
   "metadata": {},
   "outputs": [
    {
     "data": {
      "text/html": [
       "<div>\n",
       "<style scoped>\n",
       "    .dataframe tbody tr th:only-of-type {\n",
       "        vertical-align: middle;\n",
       "    }\n",
       "\n",
       "    .dataframe tbody tr th {\n",
       "        vertical-align: top;\n",
       "    }\n",
       "\n",
       "    .dataframe thead th {\n",
       "        text-align: right;\n",
       "    }\n",
       "</style>\n",
       "<table border=\"1\" class=\"dataframe\">\n",
       "  <thead>\n",
       "    <tr style=\"text-align: right;\">\n",
       "      <th></th>\n",
       "      <th>region</th>\n",
       "      <th>price</th>\n",
       "      <th>construction_area</th>\n",
       "      <th>saleable_area</th>\n",
       "    </tr>\n",
       "  </thead>\n",
       "  <tbody>\n",
       "    <tr>\n",
       "      <th>0</th>\n",
       "      <td>東涌</td>\n",
       "      <td>售 775 萬</td>\n",
       "      <td>建築面積 : 984呎@7876</td>\n",
       "      <td>實用面積: 734呎@10559</td>\n",
       "    </tr>\n",
       "    <tr>\n",
       "      <th>1</th>\n",
       "      <td>鑽石山</td>\n",
       "      <td>售 598 萬</td>\n",
       "      <td>建築面積 : --</td>\n",
       "      <td>實用面積: 383呎@15614</td>\n",
       "    </tr>\n",
       "    <tr>\n",
       "      <th>2</th>\n",
       "      <td>屯門</td>\n",
       "      <td>售 628 萬</td>\n",
       "      <td>建築面積 : --</td>\n",
       "      <td>實用面積: 488呎@12869</td>\n",
       "    </tr>\n",
       "    <tr>\n",
       "      <th>3</th>\n",
       "      <td>將軍澳</td>\n",
       "      <td>售 1,080 萬</td>\n",
       "      <td>建築面積 : --</td>\n",
       "      <td>實用面積: 625呎@17280</td>\n",
       "    </tr>\n",
       "    <tr>\n",
       "      <th>4</th>\n",
       "      <td>太古城</td>\n",
       "      <td>售 900 萬</td>\n",
       "      <td>建築面積 : 591呎@15228</td>\n",
       "      <td>實用面積: 504呎@17857</td>\n",
       "    </tr>\n",
       "    <tr>\n",
       "      <th>5</th>\n",
       "      <td>奧運</td>\n",
       "      <td>售 5,200 萬</td>\n",
       "      <td>建築面積 : 1971呎@26383</td>\n",
       "      <td>實用面積: 1523呎@34143</td>\n",
       "    </tr>\n",
       "    <tr>\n",
       "      <th>6</th>\n",
       "      <td>大圍</td>\n",
       "      <td>售 1,150 萬</td>\n",
       "      <td>建築面積 : 980呎@11734</td>\n",
       "      <td>實用面積: 739呎@15562</td>\n",
       "    </tr>\n",
       "    <tr>\n",
       "      <th>7</th>\n",
       "      <td>藍田</td>\n",
       "      <td>售 855 萬</td>\n",
       "      <td>建築面積 : 680呎@12574</td>\n",
       "      <td>實用面積: 537呎@15922</td>\n",
       "    </tr>\n",
       "    <tr>\n",
       "      <th>8</th>\n",
       "      <td>將軍澳</td>\n",
       "      <td>售 908 萬</td>\n",
       "      <td>建築面積 : --</td>\n",
       "      <td>實用面積: 708呎@12825</td>\n",
       "    </tr>\n",
       "    <tr>\n",
       "      <th>9</th>\n",
       "      <td>九龍灣</td>\n",
       "      <td>售 570 萬</td>\n",
       "      <td>建築面積 : 443呎@12866</td>\n",
       "      <td>實用面積: 322呎@17702</td>\n",
       "    </tr>\n",
       "    <tr>\n",
       "      <th>10</th>\n",
       "      <td>天水圍</td>\n",
       "      <td>售 458 萬</td>\n",
       "      <td>建築面積 : --</td>\n",
       "      <td>實用面積: 446呎@10269</td>\n",
       "    </tr>\n",
       "    <tr>\n",
       "      <th>11</th>\n",
       "      <td>天水圍</td>\n",
       "      <td>售 538 萬</td>\n",
       "      <td>建築面積 : --</td>\n",
       "      <td>實用面積: 550呎@9782</td>\n",
       "    </tr>\n",
       "    <tr>\n",
       "      <th>12</th>\n",
       "      <td>天水圍</td>\n",
       "      <td>售 600 萬</td>\n",
       "      <td>建築面積 : --</td>\n",
       "      <td>實用面積: 629呎@9539</td>\n",
       "    </tr>\n",
       "    <tr>\n",
       "      <th>13</th>\n",
       "      <td>元朗</td>\n",
       "      <td>售 490 萬</td>\n",
       "      <td>建築面積 : 700呎@7000</td>\n",
       "      <td>實用面積: --</td>\n",
       "    </tr>\n",
       "    <tr>\n",
       "      <th>14</th>\n",
       "      <td>天水圍</td>\n",
       "      <td>售 580 萬</td>\n",
       "      <td>建築面積 : 653呎@8882</td>\n",
       "      <td>實用面積: 489呎@11861</td>\n",
       "    </tr>\n",
       "    <tr>\n",
       "      <th>15</th>\n",
       "      <td>屯門</td>\n",
       "      <td>售 410 萬</td>\n",
       "      <td>建築面積 : 700呎@5857</td>\n",
       "      <td>實用面積: 650呎@6308</td>\n",
       "    </tr>\n",
       "    <tr>\n",
       "      <th>16</th>\n",
       "      <td>將軍澳</td>\n",
       "      <td>售 748 萬</td>\n",
       "      <td>建築面積 : 695呎@10762</td>\n",
       "      <td>實用面積: 525呎@14248</td>\n",
       "    </tr>\n",
       "    <tr>\n",
       "      <th>17</th>\n",
       "      <td>北角</td>\n",
       "      <td>售 610 萬</td>\n",
       "      <td>建築面積 : --</td>\n",
       "      <td>實用面積: 612呎@9967</td>\n",
       "    </tr>\n",
       "    <tr>\n",
       "      <th>18</th>\n",
       "      <td>火炭</td>\n",
       "      <td>售 915 萬</td>\n",
       "      <td>建築面積 : 717呎@12761</td>\n",
       "      <td>實用面積: 555呎@16486</td>\n",
       "    </tr>\n",
       "    <tr>\n",
       "      <th>19</th>\n",
       "      <td>屯門</td>\n",
       "      <td>售 348 萬</td>\n",
       "      <td>建築面積 : 467呎@7452</td>\n",
       "      <td>實用面積: 325呎@10708</td>\n",
       "    </tr>\n",
       "  </tbody>\n",
       "</table>\n",
       "</div>"
      ],
      "text/plain": [
       "   region      price   construction_area      saleable_area\n",
       "0      東涌    售 775 萬    建築面積 : 984呎@7876   實用面積: 734呎@10559\n",
       "1     鑽石山    售 598 萬           建築面積 : --   實用面積: 383呎@15614\n",
       "2      屯門    售 628 萬           建築面積 : --   實用面積: 488呎@12869\n",
       "3     將軍澳  售 1,080 萬           建築面積 : --   實用面積: 625呎@17280\n",
       "4     太古城    售 900 萬   建築面積 : 591呎@15228   實用面積: 504呎@17857\n",
       "5      奧運  售 5,200 萬  建築面積 : 1971呎@26383  實用面積: 1523呎@34143\n",
       "6      大圍  售 1,150 萬   建築面積 : 980呎@11734   實用面積: 739呎@15562\n",
       "7      藍田    售 855 萬   建築面積 : 680呎@12574   實用面積: 537呎@15922\n",
       "8     將軍澳    售 908 萬           建築面積 : --   實用面積: 708呎@12825\n",
       "9     九龍灣    售 570 萬   建築面積 : 443呎@12866   實用面積: 322呎@17702\n",
       "10    天水圍    售 458 萬           建築面積 : --   實用面積: 446呎@10269\n",
       "11    天水圍    售 538 萬           建築面積 : --    實用面積: 550呎@9782\n",
       "12    天水圍    售 600 萬           建築面積 : --    實用面積: 629呎@9539\n",
       "13     元朗    售 490 萬    建築面積 : 700呎@7000           實用面積: --\n",
       "14    天水圍    售 580 萬    建築面積 : 653呎@8882   實用面積: 489呎@11861\n",
       "15     屯門    售 410 萬    建築面積 : 700呎@5857    實用面積: 650呎@6308\n",
       "16    將軍澳    售 748 萬   建築面積 : 695呎@10762   實用面積: 525呎@14248\n",
       "17     北角    售 610 萬           建築面積 : --    實用面積: 612呎@9967\n",
       "18     火炭    售 915 萬   建築面積 : 717呎@12761   實用面積: 555呎@16486\n",
       "19     屯門    售 348 萬    建築面積 : 467呎@7452   實用面積: 325呎@10708"
      ]
     },
     "execution_count": 2,
     "metadata": {},
     "output_type": "execute_result"
    }
   ],
   "source": [
    "hse28.head(20)\n"
   ]
  },
  {
   "cell_type": "code",
   "execution_count": 11,
   "id": "acceptable-packaging",
   "metadata": {},
   "outputs": [
    {
     "data": {
      "text/plain": [
       "array(['Islands', 'Wong Tai Sin', 'Tuen Mun', 'Sai Kung', 'Eastern',\n",
       "       'Yau Tsim Mong', 'Sha Tin', 'Kwun Tong', 'Yuen Long',\n",
       "       'Sham Shui Po', 'Kowloon City', 'Tsuen Wan', 'Kwai Tsing',\n",
       "       'Tai Po', 'Wan Chai', 'Central and Western', 'North', 'Southern',\n",
       "       'Eastern半山', '江門', '珠海', 'Wan Chai半山', '日本', '英國', '泰國'],\n",
       "      dtype=object)"
      ]
     },
     "execution_count": 11,
     "metadata": {},
     "output_type": "execute_result"
    }
   ],
   "source": [
    "hse28['region'].unique()\n",
    "#Ready transfer those values to the name of 18 districts"
   ]
  },
  {
   "cell_type": "code",
   "execution_count": 16,
   "id": "personalized-graduate",
   "metadata": {},
   "outputs": [
    {
     "data": {
      "text/plain": [
       "18"
      ]
     },
     "execution_count": 16,
     "metadata": {},
     "output_type": "execute_result"
    }
   ],
   "source": [
    "hse28['region'].nunique()"
   ]
  },
  {
   "cell_type": "code",
   "execution_count": 5,
   "id": "social-filter",
   "metadata": {},
   "outputs": [
    {
     "name": "stdout",
     "output_type": "stream",
     "text": [
      "<class 'pandas.core.frame.DataFrame'>\n",
      "RangeIndex: 11955 entries, 0 to 11954\n",
      "Data columns (total 4 columns):\n",
      " #   Column             Non-Null Count  Dtype \n",
      "---  ------             --------------  ----- \n",
      " 0   region             11955 non-null  object\n",
      " 1   price              11955 non-null  object\n",
      " 2   construction_area  11955 non-null  object\n",
      " 3   saleable_area      11955 non-null  object\n",
      "dtypes: object(4)\n",
      "memory usage: 373.7+ KB\n"
     ]
    }
   ],
   "source": [
    "hse28.info()"
   ]
  },
  {
   "cell_type": "code",
   "execution_count": 6,
   "id": "intermediate-convergence",
   "metadata": {},
   "outputs": [],
   "source": [
    "hse28['region'] = hse28['region'].str.replace('深井' , '')"
   ]
  },
  {
   "cell_type": "code",
   "execution_count": 7,
   "id": "minimal-fiber",
   "metadata": {},
   "outputs": [],
   "source": [
    "hse28['region'] = hse28['region'].str.strip('()')"
   ]
  },
  {
   "cell_type": "code",
   "execution_count": 12,
   "id": "geological-green",
   "metadata": {},
   "outputs": [],
   "source": [
    "#Kowloon\n",
    "\n",
    "#Yau Tsim Mong\n",
    "hse28['region'] = hse28['region'].replace(\n",
    "    dict.fromkeys(['奧運', '旺角', '九龍站', '石硤尾', '佐敦', '大角咀', '太子', '尖沙咀', '油麻地'], 'Yau Tsim Mong'), \n",
    "    regex=True\n",
    ")\n",
    "\n",
    "#Sham Shui Po\n",
    "hse28['region'] = hse28['region'].replace(\n",
    "    dict.fromkeys(['美孚', '荔枝角', '長沙灣', '又一村', '深水埗'], 'Sham Shui Po'), \n",
    "    regex=True\n",
    ")\n",
    "\n",
    "#Kowloon City\n",
    "hse28['region'] = hse28['region'].replace(\n",
    "    dict.fromkeys(['紅磡', '何文田', '啟德', '黃埔', '土瓜灣', '九龍塘', '九龍城'], 'Kowloon City'), \n",
    "    regex=True\n",
    ")\n",
    "\n",
    "#Wong Tai Sin\n",
    "hse28['region'] = hse28['region'].replace(\n",
    "    dict.fromkeys(['鑽石山', '牛池灣', '新蒲崗', '樂富', '黃大仙'], 'Wong Tai Sin'), \n",
    "    regex=True\n",
    ")\n",
    "\n",
    "#Kwun Tong\n",
    "hse28['region'] = hse28['region'].replace(\n",
    "    dict.fromkeys(['藍田', '九龍灣', '牛頭角', '油塘', '觀塘'], 'Kwun Tong'), \n",
    "    regex=True\n",
    ")"
   ]
  },
  {
   "cell_type": "code",
   "execution_count": 13,
   "id": "spiritual-irish",
   "metadata": {},
   "outputs": [],
   "source": [
    "#Hong Kong Island\n",
    "\n",
    "#Central and Western\n",
    "hse28['region'] = hse28['region'].replace(\n",
    "    dict.fromkeys(['西營盤', '西半山', '堅尼地城', '上環', '中環', '山頂', '石塘咀', '中半山', '金鐘'], 'Central and Western'), \n",
    "    regex=True\n",
    ")\n",
    "\n",
    "#Wan Chai\n",
    "hse28['region'] = hse28['region'].replace(\n",
    "    dict.fromkeys(['銅鑼灣', '跑馬地', '大坑', '跑馬地半山', '灣仔半山', '灣仔', 'Wan Chai半山'], 'Wan Chai'), \n",
    "    regex=True\n",
    ")\n",
    "\n",
    "#Eastern\n",
    "hse28['region'] = hse28['region'].replace(\n",
    "    dict.fromkeys(['太古城', '北角', '鰂魚涌', '柴灣', '筲箕灣', '炮台山', '北角半山', '西灣河', '天后', '杏花村', '東區半山', 'Eastern半山'], 'Eastern'), \n",
    "    regex=True\n",
    ")\n",
    "\n",
    "#Southern\n",
    "hse28['region'] = hse28['region'].replace(\n",
    "    dict.fromkeys(['鴨脷洲', '香港仔', '淺水灣', '黃竹坑', '石澳', '大潭', '薄扶林', '碧瑤灣', '壽臣山', '赤柱', '南區'], 'Southern'), \n",
    "    regex=True\n",
    ")"
   ]
  },
  {
   "cell_type": "code",
   "execution_count": 14,
   "id": "appointed-macro",
   "metadata": {},
   "outputs": [],
   "source": [
    "#New Territories\n",
    "\n",
    "#Kwai Tsing\n",
    "hse28['region'] = hse28['region'].replace(\n",
    "    dict.fromkeys(['葵涌', '青衣', '荔景', '葵芳'], 'Kwai Tsing'), \n",
    "    regex=True\n",
    ")\n",
    "\n",
    "\n",
    "#Tsuen Wan\n",
    "hse28['region'] = hse28['region'].replace(\n",
    "    dict.fromkeys(['深井', '馬灣', '大窩口', '荃灣'], 'Tsuen Wan'), \n",
    "    regex=True\n",
    ")\n",
    "\n",
    "#Yuen Long\n",
    "hse28['region'] = hse28['region'].replace(\n",
    "    dict.fromkeys(['天水圍', '元朗'], 'Yuen Long'), \n",
    "    regex=True\n",
    ")\n",
    "\n",
    "#Islands\n",
    "hse28['region'] = hse28['region'].replace(\n",
    "    dict.fromkeys(['東涌', '愉景灣', '其他離島', '坪洲', '南大嶼山'], 'Islands'), \n",
    "    regex=True\n",
    ")\n",
    "\n",
    "#North\n",
    "hse28['region'] = hse28['region'].replace(\n",
    "    dict.fromkeys(['上水', '粉嶺'], 'North'), \n",
    "    regex=True\n",
    ")\n",
    "\n",
    "#Tai Po\n",
    "hse28['region'] = hse28['region'].replace(\n",
    "    dict.fromkeys(['太和', '大埔'], 'Tai Po'), \n",
    "    regex=True\n",
    ")\n",
    "\n",
    "#Sha Tin\n",
    "hse28['region'] = hse28['region'].replace(\n",
    "    dict.fromkeys(['大圍', '火炭', '馬鞍山', '沙田'], 'Sha Tin'), \n",
    "    regex=True\n",
    ")\n",
    "\n",
    "#Sai Kung\n",
    "hse28['region'] = hse28['region'].replace(\n",
    "    dict.fromkeys(['將軍澳', '清水灣', '西貢'], 'Sai Kung'), \n",
    "    regex=True\n",
    ")\n",
    "\n",
    "#Tuen Mun\n",
    "hse28['region'] = hse28['region'].replace(\n",
    "    dict.fromkeys(['屯門'], 'Tuen Mun'), \n",
    "    regex=True\n",
    ")"
   ]
  },
  {
   "cell_type": "code",
   "execution_count": 15,
   "id": "analyzed-strength",
   "metadata": {},
   "outputs": [],
   "source": [
    "hse28 = hse28[hse28.region != '江門']\n",
    "hse28 = hse28[hse28.region != '珠海']\n",
    "hse28 = hse28[hse28.region != '日本']\n",
    "hse28 = hse28[hse28.region != '英國']\n",
    "hse28 = hse28[hse28.region != '泰國']"
   ]
  },
  {
   "cell_type": "code",
   "execution_count": 17,
   "id": "sunrise-container",
   "metadata": {},
   "outputs": [],
   "source": [
    "hse28['location'] = hse28['region'].copy()"
   ]
  },
  {
   "cell_type": "code",
   "execution_count": 18,
   "id": "small-major",
   "metadata": {},
   "outputs": [],
   "source": [
    "hse28['location'] = hse28['location'].replace(\n",
    "    dict.fromkeys(['Central and Western', 'Eastern', 'Southern', 'Wan Chai'], 'Hong Kong Island'), \n",
    "    regex=True\n",
    ")"
   ]
  },
  {
   "cell_type": "code",
   "execution_count": 19,
   "id": "developmental-cambodia",
   "metadata": {},
   "outputs": [],
   "source": [
    "hse28['location'] = hse28['location'].replace(\n",
    "    dict.fromkeys(['Yau Tsim Mong', 'Sham Shui Po', 'Kowloon City', 'Kwun Tong', 'Wong Tai Sin'], 'Kowloon'), \n",
    "    regex=True\n",
    ")"
   ]
  },
  {
   "cell_type": "code",
   "execution_count": 20,
   "id": "prepared-future",
   "metadata": {},
   "outputs": [],
   "source": [
    "hse28['location'] = hse28['location'].replace(\n",
    "    dict.fromkeys(['Kwai Tsing', 'Tsuen Wan', 'Tuen Mun', 'Yuen Long', 'North', 'Tai Po', 'Sha Tin', 'Sai Kung', 'Islands'], 'New Territories'), \n",
    "    regex=True\n",
    ")"
   ]
  },
  {
   "cell_type": "code",
   "execution_count": 21,
   "id": "genuine-heather",
   "metadata": {},
   "outputs": [
    {
     "data": {
      "text/plain": [
       "array(['New Territories', 'Kowloon', 'Hong Kong Island'], dtype=object)"
      ]
     },
     "execution_count": 21,
     "metadata": {},
     "output_type": "execute_result"
    }
   ],
   "source": [
    "hse28['location'].unique()"
   ]
  },
  {
   "cell_type": "code",
   "execution_count": 22,
   "id": "municipal-bradley",
   "metadata": {},
   "outputs": [
    {
     "name": "stderr",
     "output_type": "stream",
     "text": [
      "/Users/paulcheng/opt/anaconda3/lib/python3.7/site-packages/ipykernel_launcher.py:1: FutureWarning: The default value of regex will change from True to False in a future version.\n",
      "  \"\"\"Entry point for launching an IPython kernel.\n"
     ]
    }
   ],
   "source": [
    "hse28['price'] = hse28['price'].str.replace('(已售)' , '')"
   ]
  },
  {
   "cell_type": "code",
   "execution_count": 23,
   "id": "bronze-chrome",
   "metadata": {},
   "outputs": [],
   "source": [
    "hse28['price'] = hse28['price'].str.strip('()')"
   ]
  },
  {
   "cell_type": "code",
   "execution_count": 24,
   "id": "floppy-contact",
   "metadata": {},
   "outputs": [],
   "source": [
    "hse28['price'] = hse28['price'].str.replace(',', '')"
   ]
  },
  {
   "cell_type": "code",
   "execution_count": 25,
   "id": "literary-conservation",
   "metadata": {},
   "outputs": [],
   "source": [
    "hse28['price'] = hse28['price'].str.replace(' 萬', '0000')"
   ]
  },
  {
   "cell_type": "code",
   "execution_count": 26,
   "id": "hybrid-convert",
   "metadata": {},
   "outputs": [],
   "source": [
    "hse28['price'] = hse28['price'].str.replace('售', '')"
   ]
  },
  {
   "cell_type": "code",
   "execution_count": 27,
   "id": "freelance-display",
   "metadata": {},
   "outputs": [],
   "source": [
    "hse28['price'] = hse28['price'].apply(lambda x: int(x.strip()))"
   ]
  },
  {
   "cell_type": "code",
   "execution_count": 28,
   "id": "distinguished-creativity",
   "metadata": {},
   "outputs": [
    {
     "data": {
      "text/plain": [
       "array([ 7750000,  5980000,  6280000, ..., 62800000, 25710000,  3860000])"
      ]
     },
     "execution_count": 28,
     "metadata": {},
     "output_type": "execute_result"
    }
   ],
   "source": [
    "hse28['price'].unique()"
   ]
  },
  {
   "cell_type": "code",
   "execution_count": 29,
   "id": "answering-semiconductor",
   "metadata": {},
   "outputs": [],
   "source": [
    "hse28['construction_area'] = hse28['construction_area'].str.replace('建築面積 :', '')\n",
    "hse28['saleable_area'] = hse28['saleable_area'].str.replace('實用面積:', '')"
   ]
  },
  {
   "cell_type": "code",
   "execution_count": 30,
   "id": "raised-cornell",
   "metadata": {},
   "outputs": [],
   "source": [
    "hse28['construction_area'] = hse28['construction_area'].apply(lambda x: x.split('呎@')[0])"
   ]
  },
  {
   "cell_type": "code",
   "execution_count": 31,
   "id": "corporate-example",
   "metadata": {},
   "outputs": [],
   "source": [
    "hse28['construction_area'] = hse28['construction_area'].str.replace('--', '0')"
   ]
  },
  {
   "cell_type": "code",
   "execution_count": 32,
   "id": "provincial-television",
   "metadata": {},
   "outputs": [],
   "source": [
    "hse28['construction_area'] = hse28['construction_area'].apply(lambda x: x.split('呎')[0])"
   ]
  },
  {
   "cell_type": "code",
   "execution_count": 33,
   "id": "attended-river",
   "metadata": {},
   "outputs": [],
   "source": [
    "hse28['construction_area'] = hse28['construction_area'].apply(lambda x: int(x.strip()))"
   ]
  },
  {
   "cell_type": "code",
   "execution_count": 34,
   "id": "basic-hypothesis",
   "metadata": {},
   "outputs": [],
   "source": [
    "hse28['saleable_area'] = hse28['saleable_area'].apply(lambda x: x.split('呎@')[0])"
   ]
  },
  {
   "cell_type": "code",
   "execution_count": 35,
   "id": "middle-guest",
   "metadata": {},
   "outputs": [],
   "source": [
    "hse28['saleable_area'] = hse28['saleable_area'].str.replace('--', '0')"
   ]
  },
  {
   "cell_type": "code",
   "execution_count": 36,
   "id": "concerned-powder",
   "metadata": {},
   "outputs": [],
   "source": [
    "hse28['saleable_area'] = hse28['saleable_area'].apply(lambda x: int(x.strip()))"
   ]
  },
  {
   "cell_type": "code",
   "execution_count": 37,
   "id": "crazy-stick",
   "metadata": {},
   "outputs": [],
   "source": [
    "hse28 = hse28.rename(columns={\"region\": \"district\", \"construction_area\": \"gf_area\", \"location\": \"region\"})"
   ]
  },
  {
   "cell_type": "code",
   "execution_count": 44,
   "id": "protected-carbon",
   "metadata": {},
   "outputs": [
    {
     "name": "stdout",
     "output_type": "stream",
     "text": [
      "<class 'pandas.core.frame.DataFrame'>\n",
      "Int64Index: 5491 entries, 0 to 11953\n",
      "Data columns (total 5 columns):\n",
      " #   Column         Non-Null Count  Dtype \n",
      "---  ------         --------------  ----- \n",
      " 0   district       5491 non-null   object\n",
      " 1   price          5491 non-null   int64 \n",
      " 2   gf_area        5491 non-null   int64 \n",
      " 3   saleable_area  5491 non-null   int64 \n",
      " 4   region         5491 non-null   object\n",
      "dtypes: int64(3), object(2)\n",
      "memory usage: 257.4+ KB\n"
     ]
    }
   ],
   "source": [
    "hse28.info()"
   ]
  },
  {
   "cell_type": "code",
   "execution_count": 39,
   "id": "incomplete-cambodia",
   "metadata": {},
   "outputs": [],
   "source": [
    "hse28 = hse28[hse28['gf_area'] >= 200]"
   ]
  },
  {
   "cell_type": "code",
   "execution_count": 41,
   "id": "descending-associate",
   "metadata": {},
   "outputs": [],
   "source": [
    "hse28 = hse28[hse28['saleable_area'] >= 200]"
   ]
  },
  {
   "cell_type": "code",
   "execution_count": 43,
   "id": "simple-clearing",
   "metadata": {},
   "outputs": [],
   "source": [
    "hse28 = hse28[hse28['price'] >= 2000000]"
   ]
  },
  {
   "cell_type": "code",
   "execution_count": 48,
   "id": "civil-finish",
   "metadata": {},
   "outputs": [
    {
     "data": {
      "text/plain": [
       "0        10558.583106\n",
       "4        17857.142857\n",
       "5        34143.138542\n",
       "6        15561.569689\n",
       "7        15921.787709\n",
       "             ...     \n",
       "11945    10187.500000\n",
       "11946    10459.770115\n",
       "11947    16632.860041\n",
       "11951    17605.633803\n",
       "11953    14102.564103\n",
       "Name: unitrate_saleable_area, Length: 5491, dtype: float64"
      ]
     },
     "execution_count": 48,
     "metadata": {},
     "output_type": "execute_result"
    }
   ],
   "source": [
    "hse28['unitrate_saleable_area'] = hse28['price'] / hse28['saleable_area']\n",
    "hse28['unitrate_saleable_area']"
   ]
  },
  {
   "cell_type": "code",
   "execution_count": 49,
   "id": "comprehensive-granny",
   "metadata": {},
   "outputs": [
    {
     "data": {
      "text/html": [
       "<div>\n",
       "<style scoped>\n",
       "    .dataframe tbody tr th:only-of-type {\n",
       "        vertical-align: middle;\n",
       "    }\n",
       "\n",
       "    .dataframe tbody tr th {\n",
       "        vertical-align: top;\n",
       "    }\n",
       "\n",
       "    .dataframe thead th {\n",
       "        text-align: right;\n",
       "    }\n",
       "</style>\n",
       "<table border=\"1\" class=\"dataframe\">\n",
       "  <thead>\n",
       "    <tr style=\"text-align: right;\">\n",
       "      <th></th>\n",
       "      <th>district</th>\n",
       "      <th>price</th>\n",
       "      <th>gf_area</th>\n",
       "      <th>saleable_area</th>\n",
       "      <th>region</th>\n",
       "      <th>unitrate_saleable_area</th>\n",
       "    </tr>\n",
       "  </thead>\n",
       "  <tbody>\n",
       "    <tr>\n",
       "      <th>0</th>\n",
       "      <td>Islands</td>\n",
       "      <td>7750000</td>\n",
       "      <td>984</td>\n",
       "      <td>734</td>\n",
       "      <td>New Territories</td>\n",
       "      <td>10558.583106</td>\n",
       "    </tr>\n",
       "    <tr>\n",
       "      <th>4</th>\n",
       "      <td>Eastern</td>\n",
       "      <td>9000000</td>\n",
       "      <td>591</td>\n",
       "      <td>504</td>\n",
       "      <td>Hong Kong Island</td>\n",
       "      <td>17857.142857</td>\n",
       "    </tr>\n",
       "    <tr>\n",
       "      <th>5</th>\n",
       "      <td>Yau Tsim Mong</td>\n",
       "      <td>52000000</td>\n",
       "      <td>1971</td>\n",
       "      <td>1523</td>\n",
       "      <td>Kowloon</td>\n",
       "      <td>34143.138542</td>\n",
       "    </tr>\n",
       "    <tr>\n",
       "      <th>6</th>\n",
       "      <td>Sha Tin</td>\n",
       "      <td>11500000</td>\n",
       "      <td>980</td>\n",
       "      <td>739</td>\n",
       "      <td>New Territories</td>\n",
       "      <td>15561.569689</td>\n",
       "    </tr>\n",
       "    <tr>\n",
       "      <th>7</th>\n",
       "      <td>Kwun Tong</td>\n",
       "      <td>8550000</td>\n",
       "      <td>680</td>\n",
       "      <td>537</td>\n",
       "      <td>Kowloon</td>\n",
       "      <td>15921.787709</td>\n",
       "    </tr>\n",
       "    <tr>\n",
       "      <th>9</th>\n",
       "      <td>Kwun Tong</td>\n",
       "      <td>5700000</td>\n",
       "      <td>443</td>\n",
       "      <td>322</td>\n",
       "      <td>Kowloon</td>\n",
       "      <td>17701.863354</td>\n",
       "    </tr>\n",
       "    <tr>\n",
       "      <th>14</th>\n",
       "      <td>Yuen Long</td>\n",
       "      <td>5800000</td>\n",
       "      <td>653</td>\n",
       "      <td>489</td>\n",
       "      <td>New Territories</td>\n",
       "      <td>11860.940695</td>\n",
       "    </tr>\n",
       "    <tr>\n",
       "      <th>15</th>\n",
       "      <td>Tuen Mun</td>\n",
       "      <td>4100000</td>\n",
       "      <td>700</td>\n",
       "      <td>650</td>\n",
       "      <td>New Territories</td>\n",
       "      <td>6307.692308</td>\n",
       "    </tr>\n",
       "    <tr>\n",
       "      <th>16</th>\n",
       "      <td>Sai Kung</td>\n",
       "      <td>7480000</td>\n",
       "      <td>695</td>\n",
       "      <td>525</td>\n",
       "      <td>New Territories</td>\n",
       "      <td>14247.619048</td>\n",
       "    </tr>\n",
       "    <tr>\n",
       "      <th>18</th>\n",
       "      <td>Sha Tin</td>\n",
       "      <td>9150000</td>\n",
       "      <td>717</td>\n",
       "      <td>555</td>\n",
       "      <td>New Territories</td>\n",
       "      <td>16486.486486</td>\n",
       "    </tr>\n",
       "    <tr>\n",
       "      <th>19</th>\n",
       "      <td>Tuen Mun</td>\n",
       "      <td>3480000</td>\n",
       "      <td>467</td>\n",
       "      <td>325</td>\n",
       "      <td>New Territories</td>\n",
       "      <td>10707.692308</td>\n",
       "    </tr>\n",
       "    <tr>\n",
       "      <th>20</th>\n",
       "      <td>Yuen Long</td>\n",
       "      <td>4850000</td>\n",
       "      <td>576</td>\n",
       "      <td>442</td>\n",
       "      <td>New Territories</td>\n",
       "      <td>10972.850679</td>\n",
       "    </tr>\n",
       "    <tr>\n",
       "      <th>21</th>\n",
       "      <td>Tuen Mun</td>\n",
       "      <td>4580000</td>\n",
       "      <td>479</td>\n",
       "      <td>363</td>\n",
       "      <td>New Territories</td>\n",
       "      <td>12617.079890</td>\n",
       "    </tr>\n",
       "    <tr>\n",
       "      <th>24</th>\n",
       "      <td>Yuen Long</td>\n",
       "      <td>5880000</td>\n",
       "      <td>811</td>\n",
       "      <td>630</td>\n",
       "      <td>New Territories</td>\n",
       "      <td>9333.333333</td>\n",
       "    </tr>\n",
       "    <tr>\n",
       "      <th>25</th>\n",
       "      <td>Sham Shui Po</td>\n",
       "      <td>10380000</td>\n",
       "      <td>1000</td>\n",
       "      <td>743</td>\n",
       "      <td>Kowloon</td>\n",
       "      <td>13970.390310</td>\n",
       "    </tr>\n",
       "    <tr>\n",
       "      <th>26</th>\n",
       "      <td>Yuen Long</td>\n",
       "      <td>5280000</td>\n",
       "      <td>714</td>\n",
       "      <td>540</td>\n",
       "      <td>New Territories</td>\n",
       "      <td>9777.777778</td>\n",
       "    </tr>\n",
       "    <tr>\n",
       "      <th>27</th>\n",
       "      <td>Kwun Tong</td>\n",
       "      <td>6880000</td>\n",
       "      <td>633</td>\n",
       "      <td>496</td>\n",
       "      <td>Kowloon</td>\n",
       "      <td>13870.967742</td>\n",
       "    </tr>\n",
       "    <tr>\n",
       "      <th>28</th>\n",
       "      <td>Kwun Tong</td>\n",
       "      <td>4800000</td>\n",
       "      <td>397</td>\n",
       "      <td>282</td>\n",
       "      <td>Kowloon</td>\n",
       "      <td>17021.276596</td>\n",
       "    </tr>\n",
       "    <tr>\n",
       "      <th>30</th>\n",
       "      <td>Yuen Long</td>\n",
       "      <td>5500000</td>\n",
       "      <td>704</td>\n",
       "      <td>550</td>\n",
       "      <td>New Territories</td>\n",
       "      <td>10000.000000</td>\n",
       "    </tr>\n",
       "    <tr>\n",
       "      <th>31</th>\n",
       "      <td>Sha Tin</td>\n",
       "      <td>5100000</td>\n",
       "      <td>515</td>\n",
       "      <td>401</td>\n",
       "      <td>New Territories</td>\n",
       "      <td>12718.204489</td>\n",
       "    </tr>\n",
       "  </tbody>\n",
       "</table>\n",
       "</div>"
      ],
      "text/plain": [
       "         district     price  gf_area  saleable_area            region  \\\n",
       "0         Islands   7750000      984            734   New Territories   \n",
       "4         Eastern   9000000      591            504  Hong Kong Island   \n",
       "5   Yau Tsim Mong  52000000     1971           1523           Kowloon   \n",
       "6         Sha Tin  11500000      980            739   New Territories   \n",
       "7       Kwun Tong   8550000      680            537           Kowloon   \n",
       "9       Kwun Tong   5700000      443            322           Kowloon   \n",
       "14      Yuen Long   5800000      653            489   New Territories   \n",
       "15       Tuen Mun   4100000      700            650   New Territories   \n",
       "16       Sai Kung   7480000      695            525   New Territories   \n",
       "18        Sha Tin   9150000      717            555   New Territories   \n",
       "19       Tuen Mun   3480000      467            325   New Territories   \n",
       "20      Yuen Long   4850000      576            442   New Territories   \n",
       "21       Tuen Mun   4580000      479            363   New Territories   \n",
       "24      Yuen Long   5880000      811            630   New Territories   \n",
       "25   Sham Shui Po  10380000     1000            743           Kowloon   \n",
       "26      Yuen Long   5280000      714            540   New Territories   \n",
       "27      Kwun Tong   6880000      633            496           Kowloon   \n",
       "28      Kwun Tong   4800000      397            282           Kowloon   \n",
       "30      Yuen Long   5500000      704            550   New Territories   \n",
       "31        Sha Tin   5100000      515            401   New Territories   \n",
       "\n",
       "    unitrate_saleable_area  \n",
       "0             10558.583106  \n",
       "4             17857.142857  \n",
       "5             34143.138542  \n",
       "6             15561.569689  \n",
       "7             15921.787709  \n",
       "9             17701.863354  \n",
       "14            11860.940695  \n",
       "15             6307.692308  \n",
       "16            14247.619048  \n",
       "18            16486.486486  \n",
       "19            10707.692308  \n",
       "20            10972.850679  \n",
       "21            12617.079890  \n",
       "24             9333.333333  \n",
       "25            13970.390310  \n",
       "26             9777.777778  \n",
       "27            13870.967742  \n",
       "28            17021.276596  \n",
       "30            10000.000000  \n",
       "31            12718.204489  "
      ]
     },
     "execution_count": 49,
     "metadata": {},
     "output_type": "execute_result"
    }
   ],
   "source": [
    "hse28.head(20)"
   ]
  },
  {
   "cell_type": "code",
   "execution_count": 50,
   "id": "contrary-quarterly",
   "metadata": {},
   "outputs": [],
   "source": [
    "hse28.to_csv('hse28_dc.csv', index=False, header=True)"
   ]
  },
  {
   "cell_type": "code",
   "execution_count": null,
   "id": "varied-graduation",
   "metadata": {},
   "outputs": [],
   "source": []
  }
 ],
 "metadata": {
  "kernelspec": {
   "display_name": "Python 3",
   "language": "python",
   "name": "python3"
  },
  "language_info": {
   "codemirror_mode": {
    "name": "ipython",
    "version": 3
   },
   "file_extension": ".py",
   "mimetype": "text/x-python",
   "name": "python",
   "nbconvert_exporter": "python",
   "pygments_lexer": "ipython3",
   "version": "3.7.10"
  }
 },
 "nbformat": 4,
 "nbformat_minor": 5
}
